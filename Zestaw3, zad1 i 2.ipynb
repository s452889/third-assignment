{
 "cells": [
  {
   "cell_type": "code",
   "execution_count": 153,
   "metadata": {
    "pycharm": {
     "is_executing": false
    }
   },
   "outputs": [],
   "source": [
    "import os\n",
    "import pandas as pd\n",
    "import numpy as np\n",
    "\n",
    "from sklearn.linear_model import LogisticRegression\n",
    "from sklearn.metrics import accuracy_score\n",
    "from sklearn.metrics import confusion_matrix\n",
    "from sklearn.metrics import classification_report\n",
    "try:\n",
    "    from sklearn.metrics import plot_confusion_matrix\n",
    "except(ImportError):\n",
    "    from sklearn.utils.multiclass import unique_labels\n",
    "import seaborn as sns\n",
    "import matplotlib.pyplot as plt"
   ]
  },
  {
   "cell_type": "code",
   "execution_count": 154,
   "metadata": {
    "pycharm": {
     "is_executing": false
    }
   },
   "outputs": [
    {
     "name": "stdout",
     "text": [
      "data\\train.tsv\n"
     ],
     "output_type": "stream"
    }
   ],
   "source": [
    "# zad 1\n",
    "# path with files\n",
    "df_train = os.path.join('data', 'train.tsv')\n",
    "df_test = os.path.join('data', 'test.tsv')\n",
    "df_results = os.path.join('data', 'results.tsv')\n",
    "# example\n",
    "print(df_train)"
   ]
  },
  {
   "cell_type": "code",
   "execution_count": 155,
   "metadata": {
    "pycharm": {
     "is_executing": false
    }
   },
   "outputs": [
    {
     "data": {
      "text/plain": "         Occupancy  Temperature     Humidity        Light          CO2  \\\ncount  8143.000000  8143.000000  8143.000000  8143.000000  8143.000000   \nmean      0.212330    20.619084    25.731507   119.519375   606.546243   \nstd       0.408982     1.016916     5.531211   194.755805   314.320877   \nmin       0.000000    19.000000    16.745000     0.000000   412.750000   \n25%       0.000000    19.700000    20.200000     0.000000   439.000000   \n50%       0.000000    20.390000    26.222500     0.000000   453.500000   \n75%       0.000000    21.390000    30.533333   256.375000   638.833333   \nmax       1.000000    23.180000    39.117500  1546.333333  2028.500000   \n\n       HumidityRatio  \ncount    8143.000000  \nmean        0.003863  \nstd         0.000852  \nmin         0.002674  \n25%         0.003078  \n50%         0.003801  \n75%         0.004352  \nmax         0.006476  ",
      "text/html": "<div>\n<style scoped>\n    .dataframe tbody tr th:only-of-type {\n        vertical-align: middle;\n    }\n\n    .dataframe tbody tr th {\n        vertical-align: top;\n    }\n\n    .dataframe thead th {\n        text-align: right;\n    }\n</style>\n<table border=\"1\" class=\"dataframe\">\n  <thead>\n    <tr style=\"text-align: right;\">\n      <th></th>\n      <th>Occupancy</th>\n      <th>Temperature</th>\n      <th>Humidity</th>\n      <th>Light</th>\n      <th>CO2</th>\n      <th>HumidityRatio</th>\n    </tr>\n  </thead>\n  <tbody>\n    <tr>\n      <th>count</th>\n      <td>8143.000000</td>\n      <td>8143.000000</td>\n      <td>8143.000000</td>\n      <td>8143.000000</td>\n      <td>8143.000000</td>\n      <td>8143.000000</td>\n    </tr>\n    <tr>\n      <th>mean</th>\n      <td>0.212330</td>\n      <td>20.619084</td>\n      <td>25.731507</td>\n      <td>119.519375</td>\n      <td>606.546243</td>\n      <td>0.003863</td>\n    </tr>\n    <tr>\n      <th>std</th>\n      <td>0.408982</td>\n      <td>1.016916</td>\n      <td>5.531211</td>\n      <td>194.755805</td>\n      <td>314.320877</td>\n      <td>0.000852</td>\n    </tr>\n    <tr>\n      <th>min</th>\n      <td>0.000000</td>\n      <td>19.000000</td>\n      <td>16.745000</td>\n      <td>0.000000</td>\n      <td>412.750000</td>\n      <td>0.002674</td>\n    </tr>\n    <tr>\n      <th>25%</th>\n      <td>0.000000</td>\n      <td>19.700000</td>\n      <td>20.200000</td>\n      <td>0.000000</td>\n      <td>439.000000</td>\n      <td>0.003078</td>\n    </tr>\n    <tr>\n      <th>50%</th>\n      <td>0.000000</td>\n      <td>20.390000</td>\n      <td>26.222500</td>\n      <td>0.000000</td>\n      <td>453.500000</td>\n      <td>0.003801</td>\n    </tr>\n    <tr>\n      <th>75%</th>\n      <td>0.000000</td>\n      <td>21.390000</td>\n      <td>30.533333</td>\n      <td>256.375000</td>\n      <td>638.833333</td>\n      <td>0.004352</td>\n    </tr>\n    <tr>\n      <th>max</th>\n      <td>1.000000</td>\n      <td>23.180000</td>\n      <td>39.117500</td>\n      <td>1546.333333</td>\n      <td>2028.500000</td>\n      <td>0.006476</td>\n    </tr>\n  </tbody>\n</table>\n</div>"
     },
     "metadata": {},
     "output_type": "execute_result",
     "execution_count": 155
    }
   ],
   "source": [
    "# zad 1\n",
    "# name of column in train file\n",
    "df_names = ['Occupancy', 'Date', 'Temperature', 'Humidity',\n",
    "            'Light', 'CO2', 'HumidityRatio']\n",
    "df = pd.read_csv(df_train, sep='\\t', names=df_names)\n",
    "df = df.dropna()\n",
    "df.describe()"
   ]
  },
  {
   "cell_type": "code",
   "execution_count": 156,
   "metadata": {
    "pycharm": {
     "is_executing": false
    }
   },
   "outputs": [
    {
     "data": {
      "text/plain": "   Occupancy                 Date  Temperature  Humidity  Light         CO2  \\\n0          1  2015-02-04 17:51:00       23.180   27.2720  426.0  721.250000   \n1          1  2015-02-04 17:51:59       23.150   27.2675  429.5  714.000000   \n2          1  2015-02-04 17:53:00       23.150   27.2450  426.0  713.500000   \n3          1  2015-02-04 17:54:00       23.150   27.2000  426.0  708.250000   \n4          1  2015-02-04 17:55:00       23.100   27.2000  426.0  704.500000   \n5          1  2015-02-04 17:55:59       23.100   27.2000  419.0  701.000000   \n6          1  2015-02-04 17:57:00       23.100   27.2000  419.0  701.666667   \n7          1  2015-02-04 17:57:59       23.100   27.2000  419.0  699.000000   \n8          1  2015-02-04 17:58:59       23.100   27.2000  419.0  689.333333   \n9          1  2015-02-04 18:00:00       23.075   27.1750  419.0  688.000000   \n\n   HumidityRatio  \n0       0.004793  \n1       0.004783  \n2       0.004779  \n3       0.004772  \n4       0.004757  \n5       0.004757  \n6       0.004757  \n7       0.004757  \n8       0.004757  \n9       0.004745  ",
      "text/html": "<div>\n<style scoped>\n    .dataframe tbody tr th:only-of-type {\n        vertical-align: middle;\n    }\n\n    .dataframe tbody tr th {\n        vertical-align: top;\n    }\n\n    .dataframe thead th {\n        text-align: right;\n    }\n</style>\n<table border=\"1\" class=\"dataframe\">\n  <thead>\n    <tr style=\"text-align: right;\">\n      <th></th>\n      <th>Occupancy</th>\n      <th>Date</th>\n      <th>Temperature</th>\n      <th>Humidity</th>\n      <th>Light</th>\n      <th>CO2</th>\n      <th>HumidityRatio</th>\n    </tr>\n  </thead>\n  <tbody>\n    <tr>\n      <th>0</th>\n      <td>1</td>\n      <td>2015-02-04 17:51:00</td>\n      <td>23.180</td>\n      <td>27.2720</td>\n      <td>426.0</td>\n      <td>721.250000</td>\n      <td>0.004793</td>\n    </tr>\n    <tr>\n      <th>1</th>\n      <td>1</td>\n      <td>2015-02-04 17:51:59</td>\n      <td>23.150</td>\n      <td>27.2675</td>\n      <td>429.5</td>\n      <td>714.000000</td>\n      <td>0.004783</td>\n    </tr>\n    <tr>\n      <th>2</th>\n      <td>1</td>\n      <td>2015-02-04 17:53:00</td>\n      <td>23.150</td>\n      <td>27.2450</td>\n      <td>426.0</td>\n      <td>713.500000</td>\n      <td>0.004779</td>\n    </tr>\n    <tr>\n      <th>3</th>\n      <td>1</td>\n      <td>2015-02-04 17:54:00</td>\n      <td>23.150</td>\n      <td>27.2000</td>\n      <td>426.0</td>\n      <td>708.250000</td>\n      <td>0.004772</td>\n    </tr>\n    <tr>\n      <th>4</th>\n      <td>1</td>\n      <td>2015-02-04 17:55:00</td>\n      <td>23.100</td>\n      <td>27.2000</td>\n      <td>426.0</td>\n      <td>704.500000</td>\n      <td>0.004757</td>\n    </tr>\n    <tr>\n      <th>5</th>\n      <td>1</td>\n      <td>2015-02-04 17:55:59</td>\n      <td>23.100</td>\n      <td>27.2000</td>\n      <td>419.0</td>\n      <td>701.000000</td>\n      <td>0.004757</td>\n    </tr>\n    <tr>\n      <th>6</th>\n      <td>1</td>\n      <td>2015-02-04 17:57:00</td>\n      <td>23.100</td>\n      <td>27.2000</td>\n      <td>419.0</td>\n      <td>701.666667</td>\n      <td>0.004757</td>\n    </tr>\n    <tr>\n      <th>7</th>\n      <td>1</td>\n      <td>2015-02-04 17:57:59</td>\n      <td>23.100</td>\n      <td>27.2000</td>\n      <td>419.0</td>\n      <td>699.000000</td>\n      <td>0.004757</td>\n    </tr>\n    <tr>\n      <th>8</th>\n      <td>1</td>\n      <td>2015-02-04 17:58:59</td>\n      <td>23.100</td>\n      <td>27.2000</td>\n      <td>419.0</td>\n      <td>689.333333</td>\n      <td>0.004757</td>\n    </tr>\n    <tr>\n      <th>9</th>\n      <td>1</td>\n      <td>2015-02-04 18:00:00</td>\n      <td>23.075</td>\n      <td>27.1750</td>\n      <td>419.0</td>\n      <td>688.000000</td>\n      <td>0.004745</td>\n    </tr>\n  </tbody>\n</table>\n</div>"
     },
     "metadata": {},
     "output_type": "execute_result",
     "execution_count": 156
    }
   ],
   "source": [
    "# zad 1\n",
    "df.head(10)"
   ]
  },
  {
   "cell_type": "code",
   "execution_count": 157,
   "metadata": {
    "pycharm": {
     "is_executing": false
    }
   },
   "outputs": [
    {
     "name": "stdout",
     "text": [
      "Occupancy percentage is: 0.2123\n",
      "Zero rule model accuracy on training set is: 0.7877\n"
     ],
     "output_type": "stream"
    }
   ],
   "source": [
    "# zad 1\n",
    "# percentage of occupancy and zero rule model accuracy\n",
    "occupancy_percentage = sum(df[\"Occupancy\"]) / len(df)\n",
    "print(\"Occupancy percentage is: \" + str(round(occupancy_percentage, 4)))\n",
    "print(\"Zero rule model accuracy on training set is: \" + \n",
    "      str(round(1 - occupancy_percentage, 4)))"
   ]
  },
  {
   "cell_type": "code",
   "execution_count": 158,
   "metadata": {
    "pycharm": {
     "is_executing": false
    }
   },
   "outputs": [],
   "source": [
    "# zad 1\n",
    "# logistic regression classifier on one independent variable\n",
    "clf = LogisticRegression()\n",
    "X_train = df[['Light']]\n",
    "y_train = df.Occupancy"
   ]
  },
  {
   "cell_type": "code",
   "execution_count": 159,
   "metadata": {
    "pycharm": {
     "is_executing": false
    }
   },
   "outputs": [
    {
     "name": "stdout",
     "text": [
      "[1 1 1 ... 1 1 1]\n"
     ],
     "output_type": "stream"
    }
   ],
   "source": [
    "#zad 1\n",
    "# logistic regression classifier on one independent variable\n",
    "clf.fit(X_train, y_train)\n",
    "y_train_pred = clf.predict(X_train)\n",
    "print(y_train_pred)"
   ]
  },
  {
   "cell_type": "code",
   "execution_count": 160,
   "metadata": {
    "pycharm": {
     "is_executing": false
    }
   },
   "outputs": [
    {
     "name": "stdout",
     "text": [
      "Training set accuracy for logisitic regression model on 'Temperature' variable:\n",
      "0.9856318310205084\n",
      "6305 109 8 1721\n",
      "Training set specificity for logisitic regression model on 'Temperature' variable: 0.9830059245400686\n",
      "Training set sensitivity for logisitic regression model on 'Temperature' variable: 0.995373048004627\n"
     ],
     "output_type": "stream"
    }
   ],
   "source": [
    "# zad 1\n",
    "# accurancy for training set\n",
    "# logistic regression classifier on one independent variable\n",
    "accuracy_score(y_train, y_train_pred)\n",
    "print(\"Training set accuracy for logisitic regression model \"\n",
    "      + \"on 'Temperature' variable:\\n\" + \n",
    "      str(accuracy_score(y_train, y_train_pred)))\n",
    "conf_matrix = confusion_matrix(y_train, y_train_pred)\n",
    "tn, fp, fn, tp = conf_matrix.ravel()\n",
    "print(tn, fp, fn, tp)\n",
    "specificity = tn / (tn+fp)\n",
    "print(\"Training set specificity for logisitic regression model on 'Temperature' variable: \" + str(specificity))\n",
    "sensitivity = tp / (tp+fn)\n",
    "print(\"Training set sensitivity for logisitic regression model on 'Temperature' variable: \" + str(sensitivity))\n",
    "# sensitivity = recall"
   ]
  },
  {
   "cell_type": "code",
   "execution_count": 161,
   "metadata": {
    "pycharm": {
     "is_executing": false
    }
   },
   "outputs": [
    {
     "data": {
      "text/plain": "LogisticRegression()"
     },
     "metadata": {},
     "output_type": "execute_result",
     "execution_count": 161
    }
   ],
   "source": [
    "# zad 1\n",
    "# logistic regression classifier on all but date independent variables\n",
    "clf_all = LogisticRegression()\n",
    "X_train_all = df[['Temperature', 'Humidity', 'Light', 'CO2', 'HumidityRatio']]\n",
    "clf_all.fit(X_train_all, y_train)"
   ]
  },
  {
   "cell_type": "code",
   "execution_count": 162,
   "metadata": {
    "pycharm": {
     "is_executing": false
    }
   },
   "outputs": [],
   "source": [
    "# zad 1\n",
    "# logistic regression classifier on all but date independent variables\n",
    "y_train_pred_all = clf_all.predict(X_train_all)"
   ]
  },
  {
   "cell_type": "code",
   "execution_count": 163,
   "metadata": {
    "pycharm": {
     "is_executing": false
    }
   },
   "outputs": [
    {
     "name": "stdout",
     "text": [
      "Training set accuracy for logisitic regression model on all but date variable: 0.9860002456097261\n"
     ],
     "output_type": "stream"
    }
   ],
   "source": [
    "# zad 1\n",
    "# logistic regression classifier on all but date independent variables\n",
    "clf_all_accuracy = accuracy_score(y_train, y_train_pred_all)\n",
    "print(\"Training set accuracy for logisitic regression model \" +\n",
    "      \"on all but date variable: \" + str(clf_all_accuracy))"
   ]
  },
  {
   "cell_type": "code",
   "execution_count": 164,
   "outputs": [
    {
     "name": "stdout",
     "text": [
      "6323 91 23 1706\n",
      "Training set specificity for logisitic regression model on all but date variable: 0.9858122856251949\n",
      "Training set specificity for logisitic regression model on all but date variable: 0.9866975130133024\n"
     ],
     "output_type": "stream"
    }
   ],
   "source": [
    "# zad 1\n",
    "# logistic regression classifier on all but date independent variables\n",
    "conf_matrix = confusion_matrix(y_train, y_train_pred_all)\n",
    "tn_all, fp_all, fn_all, tp_all = conf_matrix.ravel()\n",
    "print(tn_all, fp_all, fn_all, tp_all)\n",
    "specificity_all = tn_all / (tn_all+fp_all)\n",
    "print(\"Training set specificity for logisitic regression model \" +\n",
    "      \"on all but date variable: \" + str(specificity_all))\n",
    "sensitivity_all = tp_all / (tp_all+fn_all)\n",
    "print(\"Training set specificity for logisitic regression model \" +\n",
    "      \"on all but date variable: \" + str(sensitivity_all))"
   ],
   "metadata": {
    "collapsed": false,
    "pycharm": {
     "name": "#%%\n",
     "is_executing": false
    }
   }
  },
  {
   "cell_type": "code",
   "execution_count": 165,
   "metadata": {
    "pycharm": {
     "is_executing": false
    }
   },
   "outputs": [],
   "source": [
    "# zad 1\n",
    "df_column_names = ['Date', 'Temperature', 'Humidity', 'Light',\n",
    "                   'CO2', 'HumidityRatio']\n",
    "X_column_names = ['Temperature', 'Humidity', 'Light', 'CO2', 'HumidityRatio']\n",
    "\n",
    "X_test = pd.read_csv(df_test, sep='\\t', names=df_column_names, usecols=X_column_names)"
   ]
  },
  {
   "cell_type": "code",
   "execution_count": 166,
   "metadata": {
    "pycharm": {
     "is_executing": false
    }
   },
   "outputs": [],
   "source": [
    "# zad 1\n",
    "# full model\n",
    "results = pd.read_csv(df_results, sep='\\t', names=['y'])\n",
    "results['y'] = results['y'].astype('category')"
   ]
  },
  {
   "cell_type": "code",
   "execution_count": 167,
   "metadata": {
    "pycharm": {
     "is_executing": false
    }
   },
   "outputs": [],
   "source": [
    "# zad 1\n",
    "# full model\n",
    "y_test = results['y']"
   ]
  },
  {
   "cell_type": "code",
   "execution_count": 168,
   "metadata": {
    "pycharm": {
     "is_executing": false
    }
   },
   "outputs": [
    {
     "name": "stdout",
     "text": [
      "Accuracy on test dataset (full model): 0.976360225140713\n",
      "1639 54 9 963\n",
      "Specificity on test dataset (full model): 0.9681039574719433\n",
      "Sensitivity on test dataset (full model): 0.9907407407407407\n"
     ],
     "output_type": "stream"
    }
   ],
   "source": [
    "# zad 1\n",
    "# full model\n",
    "y_test_pred = clf_all.predict(X_test)\n",
    "clf_test_accuracy_test = accuracy_score(y_test, y_test_pred)\n",
    "print('Accuracy on test dataset (full model): ' + str(clf_test_accuracy_test))\n",
    "conf_matrix_test = confusion_matrix(y_test, y_test_pred)\n",
    "tn_test, fp_test, fn_test, tp_test = conf_matrix_test.ravel()\n",
    "print(tn_test, fp_test, fn_test, tp_test)\n",
    "specificity_test = tn_test / (tn_test+fp_test)\n",
    "print(\"Specificity on test dataset (full model): \" + str(specificity_test))\n",
    "sensitivity_test = tp_test / (tp_test+fn_test)\n",
    "print(\"Sensitivity on test dataset (full model): \" + str(sensitivity_test))"
   ]
  },
  {
   "cell_type": "code",
   "execution_count": 169,
   "metadata": {
    "pycharm": {
     "is_executing": false
    }
   },
   "outputs": [],
   "source": [
    "# zad 1\n",
    "# save as file\n",
    "df = pd.DataFrame(y_test_pred)\n",
    "df.to_csv(\"out.csv\", index=False, header=False)"
   ]
  },
  {
   "cell_type": "code",
   "execution_count": 170,
   "outputs": [],
   "source": [
    "# zad 2\n",
    "# path with files\n",
    "df_train = os.path.join('data', 'train.tsv')\n",
    "df_test = os.path.join('data', 'test.tsv')\n",
    "df_results = os.path.join('data', 'results.tsv')"
   ],
   "metadata": {
    "collapsed": false,
    "pycharm": {
     "name": "#%%\n",
     "is_executing": false
    }
   }
  },
  {
   "cell_type": "code",
   "execution_count": 171,
   "outputs": [
    {
     "data": {
      "text/plain": "         Occupancy  Temperature     Humidity        Light          CO2  \\\ncount  8143.000000  8143.000000  8143.000000  8143.000000  8143.000000   \nmean      0.212330    20.619084    25.731507   119.519375   606.546243   \nstd       0.408982     1.016916     5.531211   194.755805   314.320877   \nmin       0.000000    19.000000    16.745000     0.000000   412.750000   \n25%       0.000000    19.700000    20.200000     0.000000   439.000000   \n50%       0.000000    20.390000    26.222500     0.000000   453.500000   \n75%       0.000000    21.390000    30.533333   256.375000   638.833333   \nmax       1.000000    23.180000    39.117500  1546.333333  2028.500000   \n\n       HumidityRatio  \ncount    8143.000000  \nmean        0.003863  \nstd         0.000852  \nmin         0.002674  \n25%         0.003078  \n50%         0.003801  \n75%         0.004352  \nmax         0.006476  ",
      "text/html": "<div>\n<style scoped>\n    .dataframe tbody tr th:only-of-type {\n        vertical-align: middle;\n    }\n\n    .dataframe tbody tr th {\n        vertical-align: top;\n    }\n\n    .dataframe thead th {\n        text-align: right;\n    }\n</style>\n<table border=\"1\" class=\"dataframe\">\n  <thead>\n    <tr style=\"text-align: right;\">\n      <th></th>\n      <th>Occupancy</th>\n      <th>Temperature</th>\n      <th>Humidity</th>\n      <th>Light</th>\n      <th>CO2</th>\n      <th>HumidityRatio</th>\n    </tr>\n  </thead>\n  <tbody>\n    <tr>\n      <th>count</th>\n      <td>8143.000000</td>\n      <td>8143.000000</td>\n      <td>8143.000000</td>\n      <td>8143.000000</td>\n      <td>8143.000000</td>\n      <td>8143.000000</td>\n    </tr>\n    <tr>\n      <th>mean</th>\n      <td>0.212330</td>\n      <td>20.619084</td>\n      <td>25.731507</td>\n      <td>119.519375</td>\n      <td>606.546243</td>\n      <td>0.003863</td>\n    </tr>\n    <tr>\n      <th>std</th>\n      <td>0.408982</td>\n      <td>1.016916</td>\n      <td>5.531211</td>\n      <td>194.755805</td>\n      <td>314.320877</td>\n      <td>0.000852</td>\n    </tr>\n    <tr>\n      <th>min</th>\n      <td>0.000000</td>\n      <td>19.000000</td>\n      <td>16.745000</td>\n      <td>0.000000</td>\n      <td>412.750000</td>\n      <td>0.002674</td>\n    </tr>\n    <tr>\n      <th>25%</th>\n      <td>0.000000</td>\n      <td>19.700000</td>\n      <td>20.200000</td>\n      <td>0.000000</td>\n      <td>439.000000</td>\n      <td>0.003078</td>\n    </tr>\n    <tr>\n      <th>50%</th>\n      <td>0.000000</td>\n      <td>20.390000</td>\n      <td>26.222500</td>\n      <td>0.000000</td>\n      <td>453.500000</td>\n      <td>0.003801</td>\n    </tr>\n    <tr>\n      <th>75%</th>\n      <td>0.000000</td>\n      <td>21.390000</td>\n      <td>30.533333</td>\n      <td>256.375000</td>\n      <td>638.833333</td>\n      <td>0.004352</td>\n    </tr>\n    <tr>\n      <th>max</th>\n      <td>1.000000</td>\n      <td>23.180000</td>\n      <td>39.117500</td>\n      <td>1546.333333</td>\n      <td>2028.500000</td>\n      <td>0.006476</td>\n    </tr>\n  </tbody>\n</table>\n</div>"
     },
     "metadata": {},
     "output_type": "execute_result",
     "execution_count": 171
    }
   ],
   "source": [
    "# zad 2\n",
    "# name of column in train file\n",
    "df_names = ['Occupancy', 'Date', 'Temperature', 'Humidity',\n",
    "            'Light', 'CO2', 'HumidityRatio']\n",
    "df = pd.read_csv(df_train, sep='\\t', names=df_names)\n",
    "df = df.dropna()\n",
    "df.describe()"
   ],
   "metadata": {
    "collapsed": false,
    "pycharm": {
     "name": "#%%\n",
     "is_executing": false
    }
   }
  },
  {
   "cell_type": "code",
   "execution_count": 172,
   "outputs": [
    {
     "name": "stdout",
     "text": [
      "6305 109 8 1721\n",
      "Precision (Light):  0.9404371584699454\n",
      "Recall (Light):  0.995373048004627\n",
      "F1 (Light):  0.9671255970778309\n",
      "F beta (Light):  0.9838783443860052\n"
     ],
     "output_type": "stream"
    }
   ],
   "source": [
    "# zad 2\n",
    "from sklearn.metrics import fbeta_score\n",
    "from sklearn.metrics import f1_score\n",
    "from sklearn.metrics import precision_score\n",
    "from sklearn.metrics import recall_score\n",
    "\n",
    "# light variable\n",
    "\n",
    "clf = LogisticRegression()\n",
    "X_train_light = df[['Light']]\n",
    "y_train_light = df.Occupancy\n",
    "clf.fit(X_train_light, y_train_light)\n",
    "y_train_pred_light = clf.predict(X_train_light)\n",
    "conf_matrix_light = confusion_matrix(y_train_light, \n",
    "                                     y_train_pred_light)\n",
    "tn_light, fp_light, fn_light, tp_light = conf_matrix_light.ravel()\n",
    "print(tn_light, fp_light, fn_light, tp_light)\n",
    "# precision\n",
    "precision_light = precision_score(y_train_light, y_train_pred_light)\n",
    "print(\"Precision (Light): \", precision_light)\n",
    "#recall\n",
    "recall_light = recall_score(y_train_light, y_train_pred_light)\n",
    "print(\"Recall (Light): \", recall_light)\n",
    "f1_light = f1_score(y_train_light, y_train_pred_light)\n",
    "print(\"F1 (Light): \", f1_light)\n",
    "beta_light = 2.0\n",
    "# model with 'Light\" variable has high F_score results, when we use beta = 2 then\n",
    "# our model is better (if recall and precision = 1 then model is perfect)\n",
    "# beta = 2 means that recall is more important for us\n",
    "f_beta_light = fbeta_score(y_train_light, y_train_pred_light, beta=beta_light)\n",
    "print(\"F beta (Light): \", f_beta_light)"
   ],
   "metadata": {
    "collapsed": false,
    "pycharm": {
     "name": "#%%\n",
     "is_executing": false
    }
   }
  },
  {
   "cell_type": "code",
   "execution_count": 173,
   "outputs": [
    {
     "name": "stdout",
     "text": [
      "6158 256 543 1186\n",
      "Precision (CO2):  0.8224687933425797\n",
      "Recall (CO2):  0.6859456333140543\n",
      "F1 (CO2):  0.748029012929675\n",
      "F beta (CO2):  0.8208512358749803\n"
     ],
     "output_type": "stream"
    }
   ],
   "source": [
    "# zad 2\n",
    "#CO2 variable\n",
    "\n",
    "clf = LogisticRegression()\n",
    "X_train_CO2 = df[['CO2']]\n",
    "y_train_CO2 = df.Occupancy\n",
    "clf.fit(X_train_CO2, y_train_CO2)\n",
    "y_train_pred_CO2 = clf.predict(X_train_CO2)\n",
    "conf_matrix_CO2 = confusion_matrix(y_train_CO2, \n",
    "                                     y_train_pred_CO2)\n",
    "tn_CO2, fp_CO2, fn_CO2, tp_CO2 = conf_matrix_CO2.ravel()\n",
    "print(tn_CO2, fp_CO2, fn_CO2, tp_CO2)\n",
    "# precision\n",
    "precision_CO2 = precision_score(y_train_CO2, y_train_pred_CO2)\n",
    "print(\"Precision (CO2): \", precision_CO2)\n",
    "#recall\n",
    "recall_CO2 = recall_score(y_train_CO2, y_train_pred_CO2)\n",
    "print(\"Recall (CO2): \", recall_CO2)\n",
    "f1_CO2 = f1_score(y_train_CO2, y_train_pred_CO2)\n",
    "print(\"F1 (CO2): \", f1_CO2)\n",
    "beta_CO2 = 0.1\n",
    "# model with 'CO2\" variable has medium F_score results, when we use beta = 0.5 then\n",
    "# our model is better (if recall and precision = 1 then model is perfect)\n",
    "# beta = 0.5 means that precision is more important for us\n",
    "f_beta_CO2 = fbeta_score(y_train_CO2, y_train_pred_CO2, beta=beta_CO2)\n",
    "print(\"F beta (CO2): \", f_beta_CO2)"
   ],
   "metadata": {
    "collapsed": false,
    "pycharm": {
     "name": "#%%\n",
     "is_executing": false
    }
   }
  },
  {
   "cell_type": "code",
   "execution_count": 179,
   "outputs": [
    {
     "name": "stdout",
     "text": [
      "6323 91 23 1706\n",
      "Precision (all):  0.9493600445186422\n",
      "Recall (all):  0.9866975130133024\n",
      "F1 (all):  0.9676687464549064\n",
      "F beta (all):  0.982832123516534\n"
     ],
     "output_type": "stream"
    }
   ],
   "source": [
    "# zad 2\n",
    "# all independent variables (no date)\n",
    "\n",
    "clf = LogisticRegression()\n",
    "X_train_all = df[['Temperature', 'Humidity', 'Light', 'CO2', 'HumidityRatio']]\n",
    "y_train_all = df.Occupancy\n",
    "clf.fit(X_train_all, y_train)\n",
    "\n",
    "y_train_pred_all = clf.predict(X_train_all)\n",
    "\n",
    "conf_matrix_all = confusion_matrix(y_train_all, \n",
    "                                     y_train_pred_all)\n",
    "tn_all, fp_all, fn_all, tp_all = conf_matrix_all.ravel()\n",
    "print(tn_all, fp_all, fn_all, tp_all)\n",
    "\n",
    "# precision\n",
    "precision_all = precision_score(y_train_all, y_train_pred_all)\n",
    "print(\"Precision (all): \", precision_all)\n",
    "#recall\n",
    "\n",
    "recall_all = recall_score(y_train_all, y_train_pred_all)\n",
    "print(\"Recall (all): \", recall_all)\n",
    "f1_all = f1_score(y_train_all, y_train_pred_all)\n",
    "print(\"F1 (all): \", f1_all)\n",
    "beta_all = 3.0\n",
    "\n",
    "# model with all variable (no date) has high F_score results, when we use beta = 3.0 then\n",
    "# our model is better (if recall and precision = 1 then model is perfect)\n",
    "# beta = 3.0 means that recall is more important for us\n",
    "f_beta_all = fbeta_score(y_train_all, y_train_pred_all, beta=beta_all)\n",
    "print(\"F beta (all): \", f_beta_all)\n",
    "\n",
    "\n"
   ],
   "metadata": {
    "collapsed": false,
    "pycharm": {
     "name": "#%%\n",
     "is_executing": false
    }
   }
  }
 ],
 "metadata": {
  "kernelspec": {
   "display_name": "Python 3",
   "language": "python",
   "name": "python3"
  },
  "language_info": {
   "codemirror_mode": {
    "name": "ipython",
    "version": 3
   },
   "file_extension": ".py",
   "mimetype": "text/x-python",
   "name": "python",
   "nbconvert_exporter": "python",
   "pygments_lexer": "ipython3",
   "version": "3.7.6"
  },
  "pycharm": {
   "stem_cell": {
    "cell_type": "raw",
    "source": [],
    "metadata": {
     "collapsed": false
    }
   }
  }
 },
 "nbformat": 4,
 "nbformat_minor": 4
}